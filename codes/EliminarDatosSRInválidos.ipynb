{
  "nbformat": 4,
  "nbformat_minor": 0,
  "metadata": {
    "colab": {
      "provenance": []
    },
    "kernelspec": {
      "name": "python3",
      "display_name": "Python 3"
    },
    "language_info": {
      "name": "python"
    }
  },
  "cells": [
    {
      "cell_type": "code",
      "source": [
        "pip install \"modin[all]\" # Install all of the above"
      ],
      "metadata": {
        "id": "kWrHlGJXrRPM"
      },
      "execution_count": null,
      "outputs": []
    },
    {
      "cell_type": "code",
      "execution_count": null,
      "metadata": {
        "colab": {
          "base_uri": "https://localhost:8080/"
        },
        "id": "GUQcH6JUp1Sg",
        "outputId": "ed3d9cac-db74-40c7-b7c2-1750538573c2"
      },
      "outputs": [
        {
          "output_type": "stream",
          "name": "stderr",
          "text": [
            "FutureWarning: The pandas.datetime class is deprecated and will be removed from pandas in a future version. Import from datetime module instead.\n"
          ]
        },
        {
          "output_type": "stream",
          "name": "stdout",
          "text": [
            "Mounted at /content/drive/\n"
          ]
        }
      ],
      "source": [
        "import modin.pandas as pd\n",
        "import numpy as np \n",
        "\n",
        "from google.colab import drive\n",
        "drive.mount(\"/content/drive/\")"
      ]
    },
    {
      "cell_type": "code",
      "source": [
        "def save_to_Drive(path,df,name): \n",
        "  route = path+name+'.csv'\n",
        "  with open(route, 'w', encoding = 'utf-8-sig') as f:\n",
        "    df.to_csv(f, index=False)"
      ],
      "metadata": {
        "id": "4lWyHz19yodB"
      },
      "execution_count": null,
      "outputs": []
    },
    {
      "cell_type": "code",
      "source": [
        "path = \"/content/drive/MyDrive/Colab/final_all_stations.csv\" "
      ],
      "metadata": {
        "id": "g8rq_aktrF3s"
      },
      "execution_count": null,
      "outputs": []
    },
    {
      "cell_type": "code",
      "source": [
        "data = pd.read_csv(path)"
      ],
      "metadata": {
        "id": "RGU-ZlqTrDIi"
      },
      "execution_count": null,
      "outputs": []
    },
    {
      "cell_type": "code",
      "source": [
        "start = data.loc[data.date == '2019-09-11 12:00:00'].index[0]\n",
        "end = data.loc[data.date == '2021-04-07 01:00:00'].index[0]\n",
        "for i in range(start, end+1):\n",
        "  data.sr_CE[i] = np.nan\n",
        "\n",
        "data.rainf.fillna(0, inplace=True)"
      ],
      "metadata": {
        "id": "2R907pXFreRI"
      },
      "execution_count": null,
      "outputs": []
    },
    {
      "cell_type": "code",
      "source": [
        "save_to_Drive(\"/content/drive/MyDrive/Colab/\", data, 'SIMA_3stations')"
      ],
      "metadata": {
        "colab": {
          "base_uri": "https://localhost:8080/"
        },
        "id": "-PFYa7oe2wI5",
        "outputId": "54240364-3184-40c1-ba8a-3b2f7641b371"
      },
      "execution_count": null,
      "outputs": [
        {
          "output_type": "stream",
          "name": "stderr",
          "text": [
            "UserWarning: `to_csv` defaulting to pandas implementation.\n",
            "To request implementation, send an email to feature_requests@modin.org.\n"
          ]
        }
      ]
    },
    {
      "cell_type": "code",
      "source": [
        "path = \"/content/drive/MyDrive/Colab/final_all_stations.csv\" \n",
        "data = pd.read_csv(path)"
      ],
      "metadata": {
        "colab": {
          "base_uri": "https://localhost:8080/"
        },
        "id": "B7q31pSc4Y2I",
        "outputId": "09ebbf5b-79a6-4806-8be1-f746f0f5cff1"
      },
      "execution_count": null,
      "outputs": [
        {
          "output_type": "stream",
          "name": "stdout",
          "text": [
            "nan\n",
            "nan\n",
            "nan\n",
            "nan\n",
            "nan\n",
            "nan\n",
            "nan\n",
            "nan\n",
            "nan\n",
            "nan\n",
            "nan\n",
            "nan\n",
            "nan\n",
            "nan\n",
            "nan\n",
            "nan\n",
            "nan\n",
            "nan\n",
            "nan\n",
            "nan\n"
          ]
        }
      ]
    }
  ]
}